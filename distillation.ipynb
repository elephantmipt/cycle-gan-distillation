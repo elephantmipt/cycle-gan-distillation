{
 "cells": [
  {
   "cell_type": "code",
   "execution_count": 1,
   "metadata": {},
   "outputs": [
    {
     "name": "stderr",
     "output_type": "stream",
     "text": [
      "\u001B[34m\u001B[1mwandb\u001B[0m: \u001B[33mWARNING\u001B[0m W&B installed but not logged in.  Run `wandb login` or set the WANDB_API_KEY env variable.\n"
     ]
    }
   ],
   "source": [
    "import torch\n",
    "\n",
    "from catalyst import dl\n",
    "\n",
    "from src.callbacks.gan import (\n",
    "    CycleGANLoss,\n",
    "    GANLoss,\n",
    "    IdenticalGANLoss,\n",
    "    PrepareGeneratorPhase,\n",
    "    GeneratorOptimizerCallback,\n",
    "    PrepareDiscriminatorPhase,\n",
    "    DiscriminatorLoss,\n",
    "    DiscriminatorOptimizerCallback\n",
    ")\n",
    "from src.callbacks.distillation import (\n",
    "    HiddenStateLoss,\n",
    "    TeacherStudentLoss,\n",
    ")\n",
    "from src.callbacks.visualization import LogImageCallback\n",
    "from src.dataset import UnpairedDataset\n",
    "from src.modules.generator import Generator\n",
    "from src.modules.discriminator import NLayerDiscriminator, PixelDiscriminator\n",
    "from src.runner import DistillRunner\n",
    "from src.modules.loss import LSGanLoss\n",
    "\n",
    "from torchvision import transforms as T\n",
    "\n",
    "from PIL import Image"
   ]
  },
  {
   "cell_type": "code",
   "execution_count": 2,
   "metadata": {
    "pycharm": {
     "name": "#%%\n"
    }
   },
   "outputs": [],
   "source": [
    "train_ds = UnpairedDataset(\n",
    "    \"./datasets/monet2photo/trainA_preprocessed\",\n",
    "    \"./datasets/monet2photo/trainB_preprocessed\",\n",
    "    transforms=T.Compose([\n",
    "        T.Resize((300,300)),\n",
    "        T.RandomCrop((256, 256)),\n",
    "        T.RandomHorizontalFlip(),\n",
    "        T.ToTensor(),\n",
    "\n",
    "    ])\n",
    "\n",
    ")\n",
    "train_dl = torch.utils.data.DataLoader(\n",
    "    train_ds,\n",
    "    batch_size=1,\n",
    "    shuffle=True\n",
    ")"
   ]
  },
  {
   "cell_type": "code",
   "execution_count": 3,
   "metadata": {
    "pycharm": {
     "name": "#%%\n"
    }
   },
   "outputs": [],
   "source": [
    "tr = transforms=T.Compose([\n",
    "    T.Resize((256,256)),\n",
    "    T.ToTensor(),\n",
    "])\n",
    "\n",
    "\n",
    "mipt_photo = tr(Image.open(\"./datasets/mipt.jpg\"))\n",
    "zinger_photo = tr(Image.open(\"./datasets/vk.jpg\"))\n"
   ]
  },
  {
   "cell_type": "code",
   "execution_count": 4,
   "metadata": {
    "pycharm": {
     "name": "#%%\n"
    }
   },
   "outputs": [],
   "source": [
    "from itertools import chain\n",
    "\n",
    "model = {\n",
    "    \"generator_ab\": Generator(3, 3, n_blocks=9),\n",
    "    \"generator_ba\": Generator(3, 3, n_blocks=9),\n",
    "    \"generator_t\": Generator(3, 3, n_blocks=3),\n",
    "    \"discriminator_a\": PixelDiscriminator(3),\n",
    "    \"discriminator_b\": PixelDiscriminator(3),\n",
    "}\n",
    "optimizer = {\n",
    "    \"generator\": torch.optim.Adam(\n",
    "        chain(\n",
    "            model[\"generator_ab\"].parameters(),\n",
    "            model[\"generator_t\"].parameters(),\n",
    "        ),\n",
    "        lr=0.0002\n",
    "    ),\n",
    "    \"discriminator\": torch.optim.Adam(\n",
    "        chain(\n",
    "            model[\"discriminator_a\"].parameters(),\n",
    "            model[\"discriminator_b\"].parameters()\n",
    "        ),\n",
    "        lr=0.0002\n",
    "    )\n",
    "}\n",
    "callbacks = [\n",
    "    PrepareGeneratorPhase(),\n",
    "    GANLoss(),\n",
    "    CycleGANLoss(),\n",
    "    IdenticalGANLoss(),\n",
    "    GeneratorOptimizerCallback(\n",
    "        keys=[\n",
    "            \"gan_loss\", \n",
    "            \"cycle_loss\", \n",
    "            \"identical_loss\", \n",
    "            \"hidden_state_loss\",\n",
    "            \"ts_difference\",\n",
    "        ],\n",
    "        weights=[1, 10, 5, 1, 10],\n",
    "    ),\n",
    "    PrepareDiscriminatorPhase(),\n",
    "    DiscriminatorLoss(),\n",
    "    DiscriminatorOptimizerCallback(),\n",
    "    HiddenStateLoss(),\n",
    "    TeacherStudentLoss(),\n",
    "    LogImageCallback(model_key=\"generator_t\"),\n",
    "    LogImageCallback(key=\"mipt\", img=mipt_photo, model_key=\"generator_t\"),\n",
    "    LogImageCallback(key=\"vk\", img=zinger_photo, model_key=\"generator_t\"),\n",
    "]\n",
    "\n",
    "criterion = {\n",
    "    \"gan\": LSGanLoss(),\n",
    "    \"cycle\": torch.nn.L1Loss(),\n",
    "    \"identical\": torch.nn.L1Loss(),\n",
    "    \"hidden_state_loss\": torch.nn.MSELoss(),\n",
    "    \"teacher_student\": torch.nn.L1Loss(),\n",
    "}\n"
   ]
  },
  {
   "cell_type": "code",
   "execution_count": 5,
   "metadata": {},
   "outputs": [],
   "source": [
    "runner = DistillRunner(buffer_size=50, student_key=\"generator_t\")"
   ]
  },
  {
   "cell_type": "code",
   "execution_count": 6,
   "metadata": {},
   "outputs": [
    {
     "name": "stderr",
     "output_type": "stream",
     "text": [
      "/Users/nik/PycharmProjects/catalyst/catalyst/dl/experiment/experiment.py:190: UserWarning:\n",
      "\n",
      "Attention, there is only one dataloader - train\n",
      "\n"
     ]
    },
    {
     "name": "stdout",
     "output_type": "stream",
     "text": [
      "Early exiting                                                                                                                                                                                                                                                                \n",
      "1/100 * Epoch (train):   0% 2/6287 [00:58<35:04:55, 20.09s/it, cycle_loss=0.680, discriminator_a_loss=0.334, discriminator_b_loss=0.350, discriminator_loss=0.684, gan_loss=1.467, generator_loss=26.479, hidden_state_loss=5.603, identical_loss=0.779, ts_difference=0.311]"
     ]
    }
   ],
   "source": [
    "runner.train(\n",
    "    model=model,\n",
    "    optimizer=optimizer,\n",
    "    loaders={\"train\": train_dl},\n",
    "    callbacks=callbacks,\n",
    "    criterion=criterion,\n",
    "    num_epochs=100,\n",
    "    verbose=True,\n",
    "    main_metric=\"identical_loss\"\n",
    ")"
   ]
  },
  {
   "cell_type": "code",
   "execution_count": 7,
   "metadata": {},
   "outputs": [
    {
     "data": {
      "text/plain": [
       "defaultdict(None,\n",
       "            {'gan_loss': tensor(2.0220, grad_fn=<AddBackward0>),\n",
       "             'cycle_loss': tensor(0.9028, grad_fn=<AddBackward0>),\n",
       "             'identical_loss': tensor(0.9646, grad_fn=<AddBackward0>)})"
      ]
     },
     "execution_count": 7,
     "metadata": {},
     "output_type": "execute_result"
    }
   ],
   "source": [
    "runner.batch_metrics"
   ]
  },
  {
   "cell_type": "code",
   "execution_count": null,
   "metadata": {},
   "outputs": [],
   "source": []
  }
 ],
 "metadata": {
  "hide_input": false,
  "kernelspec": {
   "display_name": "Python 3",
   "language": "python",
   "name": "python3"
  },
  "language_info": {
   "codemirror_mode": {
    "name": "ipython",
    "version": 3
   },
   "file_extension": ".py",
   "mimetype": "text/x-python",
   "name": "python",
   "nbconvert_exporter": "python",
   "pygments_lexer": "ipython3",
   "version": "3.7.6"
  },
  "latex_envs": {
   "LaTeX_envs_menu_present": true,
   "autoclose": false,
   "autocomplete": true,
   "bibliofile": "biblio.bib",
   "cite_by": "apalike",
   "current_citInitial": 1,
   "eqLabelWithNumbers": true,
   "eqNumInitial": 1,
   "hotkeys": {
    "equation": "Ctrl-E",
    "itemize": "Ctrl-I"
   },
   "labels_anchors": false,
   "latex_user_defs": false,
   "report_style_numbering": false,
   "user_envs_cfg": false
  },
  "varInspector": {
   "cols": {
    "lenName": 16,
    "lenType": 16,
    "lenVar": 40
   },
   "kernels_config": {
    "python": {
     "delete_cmd_postfix": "",
     "delete_cmd_prefix": "del ",
     "library": "var_list.py",
     "varRefreshCmd": "print(var_dic_list())"
    },
    "r": {
     "delete_cmd_postfix": ") ",
     "delete_cmd_prefix": "rm(",
     "library": "var_list.r",
     "varRefreshCmd": "cat(var_dic_list()) "
    }
   },
   "types_to_exclude": [
    "module",
    "function",
    "builtin_function_or_method",
    "instance",
    "_Feature"
   ],
   "window_display": false
  }
 },
 "nbformat": 4,
 "nbformat_minor": 1
}